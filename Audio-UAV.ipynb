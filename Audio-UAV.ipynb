{
 "cells": [
  {
   "cell_type": "markdown",
   "id": "cbc31a44-e322-46d7-bdd0-2592d8fa6c99",
   "metadata": {},
   "source": [
    "## Tutorial for Audio_pseudo-UAV"
   ]
  },
  {
   "cell_type": "code",
   "execution_count": null,
   "id": "a5c85382-4005-477c-ae0c-a17ee0481242",
   "metadata": {},
   "outputs": [],
   "source": [
    "import torch\n",
    "import matplotlib.pyplot as plt\n",
    "from torch.utils.data import DataLoader\n",
    "import numpy as np\n",
    "import torch.nn as nn\n",
    "import random\n",
    "from tqdm import tqdm\n",
    "import torch.optim as optim\n",
    "from dataloader.dataloader_tutorial import *\n",
    "from network.audio_net import *\n",
    "from utils import loss\n",
    "%matplotlib inline\n",
    "device = torch.device('cuda:0' if torch.cuda.is_available() else 'cpu')"
   ]
  },
  {
   "cell_type": "code",
   "execution_count": null,
   "id": "08ef8db0-c56e-47ca-9923-259016a0461a",
   "metadata": {},
   "outputs": [],
   "source": [
    " # The path of the dataset\n",
    "root = 'xxxxx'\n",
    "# The path for the annotation file \n",
    "train_anno_path = \"xxxxxx\"\n",
    "val_anno_path   =  \"xxxxxx\"\n",
    "\n",
    "with open(train_anno_path, \"r\") as f:\n",
    "    train_anno = f.readlines()\n",
    "    print(train_anno)\n",
    "\n",
    "with open(val_anno_path, \"r\") as f:\n",
    "    val_anno = f.readlines()\n",
    "\n",
    "\n",
    "uav_traindataset = UAVLoader(train_anno,root,dark_aug=1)\n",
    "uav_valdataset = UAVLoader(val_anno,root,dark_aug=1,testing=1) \n",
    "\n",
    "train_dataloader = DataLoader(uav_traindataset,32, shuffle=True, num_workers=16, drop_last=True) \n",
    "val_dataloader = DataLoader(uav_valdataset, 32, shuffle=True, num_workers=16, drop_last=True)\n",
    "\n",
    "index = 0\n",
    "# Randomly select an index\n",
    "spec,gt, pseudo_label = uav_traindataset.__getitem__(index)\n",
    "print(gt)\n",
    "print(pseudo_label)\n",
    "\n",
    "plt.figure(figsize=(8, 4))\n",
    "plt.subplot(1, 2, 1)\n",
    "plt.imshow(spec.numpy()[0], aspect='auto')\n",
    "plt.title(\"Spectrogram\")\n"
   ]
  },
  {
   "cell_type": "code",
   "execution_count": null,
   "id": "68fe19ea-5381-47d9-b1a0-3ef5e38fd7d6",
   "metadata": {
    "scrolled": true
   },
   "outputs": [],
   "source": [
    "model = AudioNet(dropout_rate=0.2).to(device)"
   ]
  },
  {
   "cell_type": "code",
   "execution_count": null,
   "id": "cb766640",
   "metadata": {},
   "outputs": [],
   "source": [
    "print(model)"
   ]
  },
  {
   "cell_type": "code",
   "execution_count": null,
   "id": "d7c36496-01b0-4485-a657-4c4bcca0bd0c",
   "metadata": {},
   "outputs": [],
   "source": [
    "def train_model(model, train_dataloader, optimizer, loss_train, loss_alpha, device):\n",
    "    model.train()\n",
    "    train_loss = 0\n",
    "    for data in tqdm(train_dataloader, total=len(train_dataloader), unit='batch'):\n",
    "        spec,  gt, pseudo_label = [d.to(device) for d in data]              \n",
    "        optimizer.zero_grad()\n",
    "        p = model(spec)\n",
    "        loss_position = loss_train(p, gt, pseudo_label, loss_alpha)          \n",
    "        loss = loss_position \n",
    "        loss.backward()\n",
    "        optimizer.step()\n",
    "        train_loss += loss.item()\n",
    "    return train_loss / len(train_dataloader)\n",
    "\n",
    "def validate_model(model, val_dataloader, loss_val, device):\n",
    "    model.eval()\n",
    "    val_loss = 0\n",
    "    with torch.no_grad():\n",
    "        for data in val_dataloader:\n",
    "            spec,  gt, pseudo_label = [d.to(device) for d in data]    \n",
    "            p  = model(spec)\n",
    "            loss_position = loss_val(p, gt)\n",
    "            loss = loss_position \n",
    "            val_loss += loss.item()\n",
    "    return val_loss / len(val_dataloader)"
   ]
  },
  {
   "cell_type": "code",
   "execution_count": null,
   "id": "b1693a82-4d91-45ab-b610-19ef0b21aa5c",
   "metadata": {
    "scrolled": true
   },
   "outputs": [],
   "source": [
    "train_epoch = 100\n",
    "loss_alpha = 0   \n",
    "optimizer = optim.Adam(model.parameters(), lr=0.0001, betas=(0.9, 0.999))\n",
    "loss_train  = loss.regression_loss_w_pseudo\n",
    "loss_val  = loss.regression_loss\n",
    "\n",
    "output_path = 'output/'\n",
    "os.makedirs(output_path,exist_ok=True)\n",
    "\n",
    "# Training loop\n",
    "best_val_loss = float('inf')\n",
    "for epoch in range(train_epoch):\n",
    "    train_loss = train_model(model, train_dataloader, optimizer, loss_train, loss_alpha, device)\n",
    "    val_loss = validate_model(model, val_dataloader, loss_val, device)\n",
    "\n",
    "    print(f\"Epoch {epoch + 1}/{train_epoch}, Train Loss: {train_loss}, Val Loss: {val_loss}\")\n",
    "\n",
    "    if val_loss < best_val_loss:\n",
    "        best_val_loss = val_loss\n",
    "        torch.save(model.state_dict(), os.path.join(output_path, 'model_best.pth'))\n"
   ]
  },
  {
   "cell_type": "code",
   "execution_count": null,
   "id": "224ad5c5-a6a2-439b-8404-1299359d9c31",
   "metadata": {
    "scrolled": true
   },
   "outputs": [],
   "source": [
    "\n",
    "model.eval()\n",
    "model.load_state_dict(torch.load('xxxx.pth'))"
   ]
  },
  {
   "cell_type": "code",
   "execution_count": null,
   "id": "9fa3e30d-a584-4bf5-9183-d4c675a79ad6",
   "metadata": {
    "scrolled": true
   },
   "outputs": [],
   "source": [
    "def evaluate(model,val_anno,audio_path,gt_path,device):\n",
    "    # read data here\n",
    "    gt_array = []\n",
    "    predict_array = []\n",
    "\n",
    "    for name in tqdm(val_anno, total=len(val_anno)):\n",
    "        audio_name  = os.path.join(audio_path,name[:-4]+'npy')\n",
    "        gt_name     = os.path.join(gt_path,name[:-4]+'npy')\n",
    "    \n",
    "        # audio   = np.load(audio_name[:])\n",
    "        audio   = make_seq_audio(audio_path,name[:-4]+'npy')\n",
    "        audio   = np.transpose(audio,[1,0])\n",
    "        spec       = Audio2Spectrogram(audio,sr=46080)\n",
    "        spec       = spec.float()\n",
    "\n",
    "        gt      = np.load(gt_name)\n",
    "        gt_array.append(gt)\n",
    "\n",
    "        with torch.no_grad():\n",
    "\n",
    "            spec = spec.to(device)\n",
    "            p= model(spec.unsqueeze(0))\n",
    "            p = p.cpu().detach().numpy()[0]\n",
    "            predict_array.append(p)\n",
    "           \n",
    "    gt_array = np.array(gt_array)\n",
    "    predict_array = np.array(predict_array)\n",
    "    print(gt_array.shape,predict_array.shape)\n",
    "\n",
    "    Dx = np.mean(np.abs(gt_array[:,0] - predict_array[:,0]))\n",
    "    Dy = np.mean(np.abs(gt_array[:,1] - predict_array[:,1]))\n",
    "    Dz = np.mean(np.abs(gt_array[:,2] - predict_array[:,2]))\n",
    "    E = np.mean(np.sqrt(np.sum((gt_array - predict_array) ** 2, axis=1)))\n",
    "    print(Dx,Dy,Dz,E)\n",
    "    return gt_array, predict_array"
   ]
  },
  {
   "cell_type": "code",
   "execution_count": null,
   "id": "662519ec",
   "metadata": {},
   "outputs": [],
   "source": [
    "\n",
    "gt_array, predict_array = evaluate(\n",
    "    model, val_anno, \n",
    "    \"xxxxx\", \n",
    "    \"xxxxx\", \n",
    "    device\n",
    ")"
   ]
  },
  {
   "cell_type": "code",
   "execution_count": null,
   "id": "084dc5bb",
   "metadata": {},
   "outputs": [],
   "source": [
    "# Gaussian process to Smooth\n",
    "import os\n",
    "import numpy as np\n",
    "from sklearn.gaussian_process import GaussianProcessRegressor\n",
    "from sklearn.gaussian_process.kernels import RBF, ConstantKernel as C\n",
    "import matplotlib.pyplot as plt\n",
    "\n",
    "\n",
    "def smooth_with_gp(points, kernel=None):\n",
    "   \n",
    "\n",
    "    if kernel is None:\n",
    "        kernel = C(1.0, (1e-3, 1e3)) * RBF(10, (1e-2, 1e2))\n",
    "    \n",
    "    gp = GaussianProcessRegressor(kernel=kernel, alpha=0.1, n_restarts_optimizer=10)\n",
    "    \n",
    "    X = np.arange(len(points)).reshape(-1, 1)  # 输入变量\n",
    "\n",
    "    gp.fit(X, y)\n",
    "    \n",
    "\n",
    "    smoothed_points, _ = gp.predict(X, return_std=True)\n",
    "    \n",
    "    return smoothed_points\n",
    "\n",
    "\n",
    "\n",
    "smoothed_points = smooth_with_gp(predict_array)\n",
    "\n",
    "\n",
    "Dx = np.mean(np.abs(gt_array[:, 0] - smoothed_points[:, 0]))\n",
    "Dy = np.mean(np.abs(gt_array[:, 1] - smoothed_points[:, 1]))\n",
    "Dz = np.mean(np.abs(gt_array[:, 2] - smoothed_points[:, 2]))\n",
    "E = np.mean(np.sqrt(np.sum((gt_array - smoothed_points) ** 2, axis=1)))\n",
    "\n",
    "print(Dx, Dy, Dz, E)\n",
    "\n",
    "\n",
    "plt.figure(figsize=(10, 6))\n",
    "plt.plot(predict_array[:, 0], predict_array[:, 1], 'b.', label='Original Data')\n",
    "plt.plot(smoothed_points[:, 0], smoothed_points[:, 1], 'r-', label='Smoothed Data')\n",
    "plt.legend()\n",
    "plt.xlabel('X')\n",
    "plt.ylabel('Y')\n",
    "plt.title('Trajectory Smoothing with Gaussian Process')\n",
    "plt.show()"
   ]
  }
 ],
 "metadata": {
  "kernelspec": {
   "display_name": "Python 3",
   "language": "python",
   "name": "python3"
  },
  "language_info": {
   "codemirror_mode": {
    "name": "ipython",
    "version": 3
   },
   "file_extension": ".py",
   "mimetype": "text/x-python",
   "name": "python",
   "nbconvert_exporter": "python",
   "pygments_lexer": "ipython3",
   "version": "3.8.19"
  }
 },
 "nbformat": 4,
 "nbformat_minor": 5
}
